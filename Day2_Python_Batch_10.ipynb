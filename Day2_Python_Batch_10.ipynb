{
 "cells": [
  {
   "cell_type": "code",
   "execution_count": null,
   "metadata": {},
   "outputs": [],
   "source": [
    "first_name =\"sumanth\"\n",
    "last_name  =\"cheruvu\"\n",
    "full_name  = f\"{first_name} {last_name}\"\n",
    "print(full_name)\n",
    "print(full_name.title()) # this is used for formating a name\n",
    "print(full_name.upper()) # this is used for making all the letters to upper case\n",
    "print(full_name.lower()) # this is used for making all the letters to lower case\n",
    "type(first_name)\n",
    "type(full_name)"
   ]
  },
  {
   "cell_type": "code",
   "execution_count": null,
   "metadata": {},
   "outputs": [],
   "source": [
    "x='abc'\n",
    "type(x) # this is used for finding out datetype"
   ]
  },
  {
   "cell_type": "code",
   "execution_count": null,
   "metadata": {},
   "outputs": [],
   "source": [
    "y=\"ABC\"\n",
    "type(y)"
   ]
  },
  {
   "cell_type": "code",
   "execution_count": null,
   "metadata": {},
   "outputs": [],
   "source": [
    "z=\"\"\"ABC\"\"\"\n",
    "type(z)"
   ]
  },
  {
   "cell_type": "code",
   "execution_count": null,
   "metadata": {},
   "outputs": [],
   "source": [
    "#concatenting of two words\n",
    "f_name=\"mounika swathi\"\n",
    "l_name=\"kanuparthi\"\n",
    "fu_name= f_name+l_name\n",
    "print(fu_name)\n",
    "ful_name = f_name + ' ' + l_name #use space in between ' ' to get a space\n",
    "print(ful_name)"
   ]
  },
  {
   "cell_type": "code",
   "execution_count": 2,
   "metadata": {},
   "outputs": [
    {
     "name": "stdout",
     "output_type": "stream",
     "text": [
      "ngkl\n"
     ]
    }
   ],
   "source": [
    "#printing my home town\n",
    "townname= \"ngkl\" # valid scenario\n",
    "townname$= \"ngkl\" # in valid situation \n",
    "print(townname)"
   ]
  },
  {
   "cell_type": "code",
   "execution_count": null,
   "metadata": {},
   "outputs": [],
   "source": []
  }
 ],
 "metadata": {
  "kernelspec": {
   "display_name": "Python 3",
   "language": "python",
   "name": "python3"
  },
  "language_info": {
   "codemirror_mode": {
    "name": "ipython",
    "version": 3
   },
   "file_extension": ".py",
   "mimetype": "text/x-python",
   "name": "python",
   "nbconvert_exporter": "python",
   "pygments_lexer": "ipython3",
   "version": "3.7.4"
  }
 },
 "nbformat": 4,
 "nbformat_minor": 2
}
